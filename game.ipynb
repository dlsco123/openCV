{
 "cells": [
  {
   "cell_type": "code",
   "execution_count": 1,
   "metadata": {},
   "outputs": [
    {
     "name": "stdout",
     "output_type": "stream",
     "text": [
      "pygame 2.5.0 (SDL 2.28.0, Python 3.9.16)\n",
      "Hello from the pygame community. https://www.pygame.org/contribute.html\n",
      "WARNING:tensorflow:No training configuration found in the save file, so the model was *not* compiled. Compile it manually.\n"
     ]
    },
    {
     "ename": "SystemExit",
     "evalue": "",
     "output_type": "error",
     "traceback": [
      "An exception has occurred, use %tb to see the full traceback.\n",
      "\u001b[1;31mSystemExit\u001b[0m\n"
     ]
    },
    {
     "name": "stderr",
     "output_type": "stream",
     "text": [
      "c:\\Users\\user\\miniconda3\\envs\\gpu\\lib\\site-packages\\IPython\\core\\interactiveshell.py:3516: UserWarning: To exit: use 'exit', 'quit', or Ctrl-D.\n",
      "  warn(\"To exit: use 'exit', 'quit', or Ctrl-D.\", stacklevel=1)\n"
     ]
    }
   ],
   "source": [
    "import pygame\n",
    "import os\n",
    "import sys\n",
    "import random\n",
    "import cv2\n",
    "import numpy as np\n",
    "from keras.models import load_model\n",
    "\n",
    "# Pygame 초기화\n",
    "pygame.init()\n",
    "\n",
    "# 화면 크기 설정\n",
    "screen_width = 800\n",
    "screen_height = 600\n",
    "screen = pygame.display.set_mode((screen_width, screen_height))\n",
    "\n",
    "# 플레이어 설정\n",
    "player_size = 50\n",
    "player_pos = [screen_width / 2, screen_height - player_size - 20]\n",
    "\n",
    "# 총알 설정\n",
    "bullet_size = 50\n",
    "bullet_pos = [random.randrange(0, screen_width - bullet_size), 0]\n",
    "bullet_list = [bullet_pos]\n",
    "\n",
    "# 게임 속도\n",
    "speed = 1\n",
    "\n",
    "# Teachable Machine 모델 불러오기\n",
    "model_path = \"D:/models/game/game.h5\"\n",
    "assert os.path.exists(model_path), f\"Model file not found at {model_path}\"\n",
    "model = load_model(model_path)\n",
    "\n",
    "\n",
    "# 웹캠 설정\n",
    "cap = cv2.VideoCapture(0)\n",
    "\n",
    "# 움직임 속도\n",
    "move_speed = 5\n",
    "\n",
    "# 게임 루프\n",
    "while True:\n",
    "    for event in pygame.event.get():\n",
    "        if event.type == pygame.QUIT:\n",
    "            pygame.quit()\n",
    "            sys.exit()\n",
    "\n",
    "    screen.fill((0, 0, 0))\n",
    "\n",
    "    # 웹캠에서 이미지를 얻고, 모델에 입력으로 전달\n",
    "    ret, frame = cap.read()\n",
    "    if not ret:\n",
    "        continue\n",
    "    # 이미지 전처리 (여기서는 간단하게 크기만 조정했지만, 실제로는 더 복잡한 전처리가 필요할 수 있습니다)\n",
    "    frame = cv2.resize(frame, (224, 224))  # 모델에 맞게 이미지 크기 조정\n",
    "    frame = np.expand_dims(frame, axis=0)\n",
    "\n",
    "    # 모델에 이미지를 입력하여 예측값을 얻음\n",
    "    pred = model.predict(frame)\n",
    "    class_idx = np.argmax(pred)\n",
    "\n",
    "    # 분류된 클래스에 따라 플레이어 이동\n",
    "    if class_idx == 1:  # 'left'\n",
    "        player_pos[0] -= move_speed\n",
    "    elif class_idx == 2:  # 'right'\n",
    "        player_pos[0] += move_speed\n",
    "    # 'hold'의 경우 아무런 동작도 수행하지 않음\n",
    "    \n",
    "    # 플레이어의 위치가 화면 밖으로 나가지 않도록 제한\n",
    "    player_pos[0] = max(0, min(screen_width - player_size, player_pos[0]))\n",
    "\n",
    "    # 플레이어 그리기\n",
    "    pygame.draw.rect(screen, (0, 255, 0), (player_pos[0], player_pos[1], player_size, player_size))\n",
    "\n",
    "    # 총알 속도 업데이트\n",
    "    if bullet_pos[1] >= 0 and bullet_pos[1] < screen_height:\n",
    "        bullet_pos[1] += speed\n",
    "    else:\n",
    "        bullet_pos[0] = random.randrange(0, screen_width - bullet_size)\n",
    "        bullet_pos[1] = 0\n",
    "\n",
    "    # 총알 그리기\n",
    "    pygame.draw.rect(screen, (255, 0, 0), (bullet_pos[0], bullet_pos[1], bullet_size, bullet_size))\n",
    "\n",
    "    # 총알이 플레이어를 맞추면 게임 오버\n",
    "    if bullet_pos[1] >= player_pos[1] and bullet_pos[0] in range(int(player_pos[0]), int(player_pos[0] + player_size)):\n",
    "        pygame.quit()\n",
    "        sys.exit()\n",
    "\n",
    "    pygame.display.update()\n",
    "\n",
    "cap.release()\n",
    "cv2.destroyAllWindows()"
   ]
  },
  {
   "cell_type": "code",
   "execution_count": 2,
   "metadata": {},
   "outputs": [
    {
     "name": "stdout",
     "output_type": "stream",
     "text": [
      "Prediction:  [[2.0491264e-06 9.9999702e-01 9.7383304e-07]]\n",
      "Class index:  1\n"
     ]
    }
   ],
   "source": [
    "# 모델에 이미지를 입력하여 예측값을 얻음\n",
    "pred = model.predict(frame)\n",
    "print(\"Prediction: \", pred)\n",
    "class_idx = np.argmax(pred)\n",
    "print(\"Class index: \", class_idx)"
   ]
  },
  {
   "attachments": {},
   "cell_type": "markdown",
   "metadata": {},
   "source": []
  }
 ],
 "metadata": {
  "kernelspec": {
   "display_name": "gpu",
   "language": "python",
   "name": "python3"
  },
  "language_info": {
   "codemirror_mode": {
    "name": "ipython",
    "version": 3
   },
   "file_extension": ".py",
   "mimetype": "text/x-python",
   "name": "python",
   "nbconvert_exporter": "python",
   "pygments_lexer": "ipython3",
   "version": "3.9.16"
  },
  "orig_nbformat": 4
 },
 "nbformat": 4,
 "nbformat_minor": 2
}
